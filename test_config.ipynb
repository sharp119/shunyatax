{
 "cells": [
  {
   "cell_type": "markdown",
   "id": "4f598697",
   "metadata": {},
   "source": [
    "# Test Configuration Settings from config.py\n",
    "This notebook is used to test and validate the configuration settings and URL templates defined in `config.py` before integrating them into the main project files."
   ]
  },
  {
   "cell_type": "code",
   "execution_count": null,
   "id": "ca95513d",
   "metadata": {},
   "outputs": [
    {
     "name": "stdout",
     "output_type": "stream",
     "text": [
      "CATEGORIES: ['aar', 'all-judgements', 'high-court', 'others', 'supreme-court', 'tribunal']\n",
      "CATEGORY_URL_TEMPLATE: https://itatonline.org/archives/category/{category}/?judges&section&counsel&court&catchwords&genre\n",
      "CATEGORY_PAGINATION_URL_TEMPLATE: https://itatonline.org/archives/category/{category}/page/{page}/?judges&section&counsel&court&catchwords&genre\n",
      "MAX_RETRIES: 3\n",
      "REQUEST_TIMEOUT: 10\n"
     ]
    },
    {
     "ename": "",
     "evalue": "",
     "output_type": "error",
     "traceback": [
      "\u001b[1;31mThe Kernel crashed while executing code in the current cell or a previous cell. \n",
      "\u001b[1;31mPlease review the code in the cell(s) to identify a possible cause of the failure. \n",
      "\u001b[1;31mClick <a href='https://aka.ms/vscodeJupyterKernelCrash'>here</a> for more info. \n",
      "\u001b[1;31mView Jupyter <a href='command:jupyter.viewOutput'>log</a> for further details."
     ]
    }
   ],
   "source": [
    "# Import configuration settings from config.py\n",
    "from config import CATEGORIES, CATEGORY_URL_TEMPLATE, CATEGORY_PAGINATION_URL_TEMPLATE, MAX_RETRIES, REQUEST_TIMEOUT\n",
    "\n",
    "# Display all imported configuration variables\n",
    "print(\"CATEGORIES:\", CATEGORIES)\n",
    "print(\"CATEGORY_URL_TEMPLATE:\", CATEGORY_URL_TEMPLATE)\n",
    "print(\"CATEGORY_PAGINATION_URL_TEMPLATE:\", CATEGORY_PAGINATION_URL_TEMPLATE)\n",
    "print(\"MAX_RETRIES:\", MAX_RETRIES)\n",
    "print(\"REQUEST_TIMEOUT:\", REQUEST_TIMEOUT)\n",
    "# print(\"USER_AGENT:\", USER_AGENT)"
   ]
  },
  {
   "cell_type": "markdown",
   "id": "0207cce4",
   "metadata": {},
   "source": [
    "## Test Category URL Templates\n",
    "Test the URL templates by formatting them with sample category and page values to ensure they generate the correct URLs."
   ]
  },
  {
   "cell_type": "code",
   "execution_count": 3,
   "id": "54fa1977",
   "metadata": {},
   "outputs": [
    {
     "name": "stdout",
     "output_type": "stream",
     "text": [
      "First page URL: https://itatonline.org/archives/category/aar/?judges&section&counsel&court&catchwords&genre\n",
      "Paginated page URL (page 3): https://itatonline.org/archives/category/aar/page/3/?judges&section&counsel&court&catchwords&genre\n"
     ]
    }
   ],
   "source": [
    "# Test CATEGORY_URL_TEMPLATE and CATEGORY_PAGINATION_URL_TEMPLATE\n",
    "sample_category = CATEGORIES[0]  # e.g., 'aar'\n",
    "sample_page = 3\n",
    "\n",
    "first_page_url = CATEGORY_URL_TEMPLATE.format(category=sample_category)\n",
    "paginated_url = CATEGORY_PAGINATION_URL_TEMPLATE.format(category=sample_category, page=sample_page)\n",
    "\n",
    "print(\"First page URL:\", first_page_url)\n",
    "print(\"Paginated page URL (page 3):\", paginated_url)"
   ]
  },
  {
   "cell_type": "markdown",
   "id": "0248af3c",
   "metadata": {},
   "source": [
    "## Test Retry and Timeout Settings\n",
    "Verify that MAX_RETRIES and REQUEST_TIMEOUT are set to expected values and can be used in HTTP request logic."
   ]
  },
  {
   "cell_type": "code",
   "execution_count": 4,
   "id": "b304847e",
   "metadata": {},
   "outputs": [
    {
     "name": "stdout",
     "output_type": "stream",
     "text": [
      "MAX_RETRIES is set to: 3\n",
      "REQUEST_TIMEOUT is set to: 10 seconds\n"
     ]
    }
   ],
   "source": [
    "# Test MAX_RETRIES and REQUEST_TIMEOUT\n",
    "assert isinstance(MAX_RETRIES, int) and MAX_RETRIES > 0, \"MAX_RETRIES should be a positive integer\"\n",
    "assert isinstance(REQUEST_TIMEOUT, int) and REQUEST_TIMEOUT > 0, \"REQUEST_TIMEOUT should be a positive integer\"\n",
    "\n",
    "print(f\"MAX_RETRIES is set to: {MAX_RETRIES}\")\n",
    "print(f\"REQUEST_TIMEOUT is set to: {REQUEST_TIMEOUT} seconds\")"
   ]
  },
  {
   "cell_type": "markdown",
   "id": "8ec5d925",
   "metadata": {},
   "source": [
    "## Test User-Agent String\n",
    "Check the USER_AGENT string for correctness and test its usage in a sample HTTP request header."
   ]
  },
  {
   "cell_type": "code",
   "execution_count": 5,
   "id": "ee47d76e",
   "metadata": {},
   "outputs": [
    {
     "name": "stdout",
     "output_type": "stream",
     "text": [
      "Randomly generated USER_AGENT: Mozilla/5.0 (iPhone; CPU iPhone OS 18_3_2 like Mac OS X) AppleWebKit/605.1.15 (KHTML, like Gecko) Version/18.3.1 Mobile/15E148 Safari/604.1\n",
      "Sample request headers: {'User-Agent': 'Mozilla/5.0 (iPhone; CPU iPhone OS 18_3_2 like Mac OS X) AppleWebKit/605.1.15 (KHTML, like Gecko) Version/18.3.1 Mobile/15E148 Safari/604.1'}\n",
      "Response from httpbin.org/user-agent: {'user-agent': 'Mozilla/5.0 (iPhone; CPU iPhone OS 18_3_2 like Mac OS X) AppleWebKit/605.1.15 (KHTML, like Gecko) Version/18.3.1 Mobile/15E148 Safari/604.1'}\n",
      "Response from httpbin.org/user-agent: {'user-agent': 'Mozilla/5.0 (iPhone; CPU iPhone OS 18_3_2 like Mac OS X) AppleWebKit/605.1.15 (KHTML, like Gecko) Version/18.3.1 Mobile/15E148 Safari/604.1'}\n"
     ]
    }
   ],
   "source": [
    "# Test auto-generated User-Agent string using fake-useragent and usage in a sample HTTP request header\n",
    "from fake_useragent import UserAgent\n",
    "import requests\n",
    "\n",
    "# Generate a random User-Agent string\n",
    "ua = UserAgent()\n",
    "user_agent = ua.random\n",
    "print(\"Randomly generated USER_AGENT:\", user_agent)\n",
    "\n",
    "# Prepare a sample request header\n",
    "headers = {\"User-Agent\": user_agent}\n",
    "print(\"Sample request headers:\", headers)\n",
    "\n",
    "# (Optional) Test a real HTTP request to httpbin.org/user-agent\n",
    "try:\n",
    "    response = requests.get(\"https://httpbin.org/user-agent\", headers=headers, timeout=REQUEST_TIMEOUT)\n",
    "    print(\"Response from httpbin.org/user-agent:\", response.json())\n",
    "except Exception as e:\n",
    "    print(\"HTTP request failed:\", e)"
   ]
  },
  {
   "cell_type": "code",
   "execution_count": null,
   "id": "cefaf4c7",
   "metadata": {},
   "outputs": [],
   "source": []
  },
  {
   "cell_type": "markdown",
   "id": "bedb37a8",
   "metadata": {},
   "source": [
    "## Test Fetching and Saving a Category Page\n",
    "Fetch a sample category page using requests and save the raw HTML response to a file for later processing."
   ]
  },
  {
   "cell_type": "code",
   "execution_count": 6,
   "id": "490d2b1a",
   "metadata": {},
   "outputs": [
    {
     "name": "stdout",
     "output_type": "stream",
     "text": [
      "Fetched https://itatonline.org/archives/category/aar/?judges&section&counsel&court&catchwords&genre (length: 314964)\n",
      "Saved HTML to aar/page_1/category_response.html\n"
     ]
    }
   ],
   "source": [
    "import os\n",
    "from fake_useragent import UserAgent\n",
    "import requests\n",
    "\n",
    "# Choose a sample category and construct the URL\n",
    "sample_category = CATEGORIES[0]  # e.g., 'aar'\n",
    "category_url = CATEGORY_URL_TEMPLATE.format(category=sample_category)\n",
    "\n",
    "# Generate a random User-Agent\n",
    "ua = UserAgent()\n",
    "headers = {\"User-Agent\": ua.random}\n",
    "\n",
    "# Fetch the category page\n",
    "try:\n",
    "    response = requests.get(category_url, headers=headers, timeout=REQUEST_TIMEOUT)\n",
    "    response.raise_for_status()\n",
    "    html_content = response.text\n",
    "    print(f\"Fetched {category_url} (length: {len(html_content)})\")\n",
    "    # Save the raw HTML to a file\n",
    "    os.makedirs(f\"{sample_category}/page_1\", exist_ok=True)\n",
    "    with open(f\"{sample_category}/page_1/category_response.html\", \"w\", encoding=\"utf-8\") as f:\n",
    "        f.write(html_content)\n",
    "    print(f\"Saved HTML to {sample_category}/page_1/category_response.html\")\n",
    "except Exception as e:\n",
    "    print(\"Error fetching or saving category page:\", e)"
   ]
  },
  {
   "cell_type": "markdown",
   "id": "24f19568",
   "metadata": {},
   "source": [
    "## Test Generating Unique ID and Saving Post HTML\n",
    "Generate a unique ID for a post and save a sample HTML response using that ID as the filename."
   ]
  },
  {
   "cell_type": "code",
   "execution_count": 7,
   "id": "934deea2",
   "metadata": {},
   "outputs": [
    {
     "name": "stdout",
     "output_type": "stream",
     "text": [
      "Generated unique ID: 46c02839e82c46b89403dc4080d8d769\n",
      "Saved sample post HTML to aar/page_1/46c02839e82c46b89403dc4080d8d769.html\n"
     ]
    }
   ],
   "source": [
    "import uuid\n",
    "\n",
    "# Generate a unique ID for a post\n",
    "unique_id = uuid.uuid4().hex\n",
    "print(\"Generated unique ID:\", unique_id)\n",
    "\n",
    "# Save a sample HTML response using the unique ID as the filename\n",
    "sample_html = \"<html><body><h1>Sample Post</h1><p>This is a test post.</p></body></html>\"\n",
    "post_path = f\"{sample_category}/page_1/{unique_id}.html\"\n",
    "with open(post_path, \"w\", encoding=\"utf-8\") as f:\n",
    "    f.write(sample_html)\n",
    "print(f\"Saved sample post HTML to {post_path}\")"
   ]
  },
  {
   "cell_type": "markdown",
   "id": "c0f3921a",
   "metadata": {},
   "source": [
    "## Test Updating the Ledger CSV\n",
    "Update the ledger CSV file with the unique ID, file path, and post URL for tracking."
   ]
  },
  {
   "cell_type": "code",
   "execution_count": 8,
   "id": "a72e8f14",
   "metadata": {},
   "outputs": [
    {
     "name": "stdout",
     "output_type": "stream",
     "text": [
      "Updated ledger.csv with: 46c02839e82c46b89403dc4080d8d769, aar/page_1/46c02839e82c46b89403dc4080d8d769.html, https://itatonline.org/archives/category/aar/post/46c02839e82c46b89403dc4080d8d769/\n"
     ]
    }
   ],
   "source": [
    "import csv\n",
    "\n",
    "ledger_path = \"ledger.csv\"\n",
    "post_url = f\"https://itatonline.org/archives/category/{sample_category}/post/{unique_id}/\"  # Example post URL\n",
    "\n",
    "# Append to the ledger CSV\n",
    "with open(ledger_path, \"a\", newline='', encoding=\"utf-8\") as csvfile:\n",
    "    writer = csv.writer(csvfile)\n",
    "    writer.writerow([unique_id, post_path, post_url])\n",
    "print(f\"Updated ledger.csv with: {unique_id}, {post_path}, {post_url}\")"
   ]
  },
  {
   "cell_type": "code",
   "execution_count": null,
   "id": "0449191a",
   "metadata": {},
   "outputs": [],
   "source": []
  },
  {
   "cell_type": "markdown",
   "id": "bed7322c",
   "metadata": {},
   "source": [
    "## Test Extracting and Fetching 'Read More' Links from Page 1\n",
    "Parse the saved category_response.html for page 1, extract all 'read more' links, and fetch the HTML for each link."
   ]
  },
  {
   "cell_type": "code",
   "execution_count": 9,
   "id": "36e6370a",
   "metadata": {},
   "outputs": [
    {
     "name": "stdout",
     "output_type": "stream",
     "text": [
      "Found 10 'read more' links: ['https://itatonline.org/archives/cit-vs-vodafone-essar-gujarat-ltd-gujarat-high-court-full-bench/', 'https://itatonline.org/archives/dow-agrosciences-agricultural-products-ltd-in-re-aar-transfer-of-shares-of-an-indian-co-by-a-mauritius-entity-to-a-singapore-entity-due-to-group-reorganization-is-not-a-scheme-for-avoidance-of-tax-th/', 'https://itatonline.org/archives/in-re-cummins-limited-aar-managerial-services-rendered-by-a-uk-co-to-an-indian-co-even-if-technical-in-nature-is-not-assessable-as-fees-for-technical-services-under-article-13-of-i/', 'https://itatonline.org/archives/in-re-aberdeen-claims-administration-inc-aar-amount-received-by-a-fii-under-a-settlement-for-giving-up-right-to-sue-is-not-assessable-as-either-capital-gains-or-as-business-profits-in-principle-a-fi/', 'https://itatonline.org/archives/in-re-tiong-woon-project-contracting-pte-limited-aar-an-installation-project-which-does-not-last-more-than-183-days-in-a-fiscal-year-is-not-a-permanent-establishment-and-the-business-profits-are-t/', 'https://itatonline.org/archives/in-re-booz-company-australia-pvt-ltd-aar-entire-law-on-what-constitutes-a-permanent-establishment-and-business-connection-explained/', 'https://itatonline.org/archives/in-re-castleton-investment-ltd-aar-aar-not-bound-by-own-rulings-transfer-pricing-roi-filing-provisions-apply-despite-no-income-foreign-company-is-liable-for-mat-us-115jb/', 'https://itatonline.org/archives/in-re-orient-green-power-pte-ltd-aar/', 'https://itatonline.org/archives/in-re-aramex-international-logistics-pvt-ltd-aar-a-subsidiary-created-for-indian-business-is-a-pe-of-the-foreign-parent/', 'https://itatonline.org/archives/alstom-transport-sa-vs-dit-aar/']\n",
      "Saved 'read more' HTML to aar/page_1/840e97321491422f9dce84cf52c02e2c.html\n",
      "Saved 'read more' HTML to aar/page_1/840e97321491422f9dce84cf52c02e2c.html\n",
      "Saved 'read more' HTML to aar/page_1/623f57c3b4824db0a572c55f766aba97.html\n",
      "Saved 'read more' HTML to aar/page_1/623f57c3b4824db0a572c55f766aba97.html\n",
      "Saved 'read more' HTML to aar/page_1/830e8d41a71544e6a319ca3adabf8558.html\n",
      "Saved 'read more' HTML to aar/page_1/830e8d41a71544e6a319ca3adabf8558.html\n",
      "Saved 'read more' HTML to aar/page_1/8840f87e21f249e8ab9203854eaf6325.html\n",
      "Saved 'read more' HTML to aar/page_1/8840f87e21f249e8ab9203854eaf6325.html\n",
      "Saved 'read more' HTML to aar/page_1/70ddf99d1d034d82a73191c34497cc2a.html\n",
      "Saved 'read more' HTML to aar/page_1/70ddf99d1d034d82a73191c34497cc2a.html\n",
      "Saved 'read more' HTML to aar/page_1/c330d4c84aeb4d9b9ed20d79b77aa95f.html\n",
      "Saved 'read more' HTML to aar/page_1/c330d4c84aeb4d9b9ed20d79b77aa95f.html\n",
      "Saved 'read more' HTML to aar/page_1/1d6d4f9f1cb74a41a12b0ca206f0f447.html\n",
      "Saved 'read more' HTML to aar/page_1/1d6d4f9f1cb74a41a12b0ca206f0f447.html\n",
      "Saved 'read more' HTML to aar/page_1/f8c968b60b79439e9261e1a706f728df.html\n",
      "Saved 'read more' HTML to aar/page_1/f8c968b60b79439e9261e1a706f728df.html\n",
      "Saved 'read more' HTML to aar/page_1/8691c31b69ab4899857651c001611bc4.html\n",
      "Saved 'read more' HTML to aar/page_1/8691c31b69ab4899857651c001611bc4.html\n",
      "Saved 'read more' HTML to aar/page_1/3379502983d0405dbca4e6391a1e4c56.html\n",
      "Saved 'read more' HTML to aar/page_1/3379502983d0405dbca4e6391a1e4c56.html\n"
     ]
    }
   ],
   "source": [
    "from bs4 import BeautifulSoup\n",
    "import requests\n",
    "from fake_useragent import UserAgent\n",
    "import os\n",
    "\n",
    "# Path to the saved category_response.html\n",
    "category_html_path = f\"{sample_category}/page_1/category_response.html\"\n",
    "\n",
    "# Read the HTML content\n",
    "with open(category_html_path, \"r\", encoding=\"utf-8\") as f:\n",
    "    html_content = f.read()\n",
    "\n",
    "# Parse with BeautifulSoup\n",
    "soup = BeautifulSoup(html_content, \"html.parser\")\n",
    "\n",
    "# Find all 'read more' links (adjust selector as needed)\n",
    "read_more_links = [a['href'] for a in soup.find_all('a', string=lambda s: s and 'read more' in s.lower())]\n",
    "print(f\"Found {len(read_more_links)} 'read more' links:\", read_more_links)\n",
    "\n",
    "# Fetch and save each 'read more' response\n",
    "ua = UserAgent()\n",
    "for idx, link in enumerate(read_more_links):\n",
    "    try:\n",
    "        headers = {\"User-Agent\": ua.random}\n",
    "        response = requests.get(link, headers=headers, timeout=REQUEST_TIMEOUT)\n",
    "        response.raise_for_status()\n",
    "        post_html = response.text\n",
    "        # Generate a unique ID for each post\n",
    "        post_id = uuid.uuid4().hex\n",
    "        post_path = f\"{sample_category}/page_1/{post_id}.html\"\n",
    "        with open(post_path, \"w\", encoding=\"utf-8\") as f:\n",
    "            f.write(post_html)\n",
    "        print(f\"Saved 'read more' HTML to {post_path}\")\n",
    "        # Optionally, update ledger here as well\n",
    "    except Exception as e:\n",
    "        print(f\"Error fetching 'read more' link {link}: {e}\")"
   ]
  },
  {
   "cell_type": "code",
   "execution_count": null,
   "id": "a9c089bb",
   "metadata": {},
   "outputs": [],
   "source": []
  },
  {
   "cell_type": "markdown",
   "id": "3e2cea53",
   "metadata": {},
   "source": [
    "## Modular Scraping Functions\n",
    "Define and test modular functions for fetching, saving, and tracking category and post data."
   ]
  },
  {
   "cell_type": "code",
   "execution_count": 10,
   "id": "1234eb59",
   "metadata": {},
   "outputs": [],
   "source": [
    "import os\n",
    "import uuid\n",
    "import csv\n",
    "import requests\n",
    "from fake_useragent import UserAgent\n",
    "from bs4 import BeautifulSoup\n",
    "\n",
    "def get_headers():\n",
    "    \"\"\"Generate headers with a random User-Agent.\"\"\"\n",
    "    ua = UserAgent()\n",
    "    return {\"User-Agent\": ua.random}\n",
    "\n",
    "def fetch_url(url, timeout):\n",
    "    \"\"\"Fetch a URL and return the response text, or None on error.\"\"\"\n",
    "    try:\n",
    "        headers = get_headers()\n",
    "        response = requests.get(url, headers=headers, timeout=timeout)\n",
    "        response.raise_for_status()\n",
    "        return response.text\n",
    "    except Exception as e:\n",
    "        print(f\"Error fetching {url}: {e}\")\n",
    "        return None\n",
    "\n",
    "def save_html(content, path):\n",
    "    \"\"\"Save HTML content to a file, creating directories as needed.\"\"\"\n",
    "    os.makedirs(os.path.dirname(path), exist_ok=True)\n",
    "    with open(path, \"w\", encoding=\"utf-8\") as f:\n",
    "        f.write(content)\n",
    "    print(f\"Saved HTML to {path}\")\n",
    "\n",
    "def generate_unique_id():\n",
    "    \"\"\"Generate a unique hex ID.\"\"\"\n",
    "    return uuid.uuid4().hex\n",
    "\n",
    "def update_ledger(ledger_path, unique_id, file_path, url):\n",
    "    \"\"\"Append a record to the ledger CSV.\"\"\"\n",
    "    with open(ledger_path, \"a\", newline='', encoding=\"utf-8\") as csvfile:\n",
    "        writer = csv.writer(csvfile)\n",
    "        writer.writerow([unique_id, file_path, url])\n",
    "    print(f\"Updated ledger: {unique_id}, {file_path}, {url}\")\n",
    "\n",
    "def extract_readmore_links(category_html):\n",
    "    \"\"\"Extract all 'read more' links from a category page HTML.\"\"\"\n",
    "    soup = BeautifulSoup(category_html, \"html.parser\")\n",
    "    return [a['href'] for a in soup.find_all('a', string=lambda s: s and 'read more' in s.lower())]"
   ]
  },
  {
   "cell_type": "markdown",
   "id": "25b5977c",
   "metadata": {},
   "source": [
    "## Test Each Modular Function\n",
    "Test the modular scraping functions one by one to ensure they work as expected."
   ]
  },
  {
   "cell_type": "code",
   "execution_count": null,
   "id": "18bd761b",
   "metadata": {},
   "outputs": [],
   "source": [
    "# Test get_headers()\n",
    "print(\"Headers:\", get_headers())\n",
    "\n",
    "# Test generate_unique_id()\n",
    "uid = generate_unique_id()\n",
    "print(\"Unique ID:\", uid)\n",
    "\n",
    "# Test save_html()\n",
    "test_html = \"<html><body><h2>Test Save</h2></body></html>\"\n",
    "test_path = \"test_dir/test_file.html\"\n",
    "save_html(test_html, test_path)\n",
    "\n",
    "# Test fetch_url() (using a simple, fast URL)\n",
    "test_url = \"https://httpbin.org/html\"\n",
    "html = fetch_url(test_url, 10)\n",
    "print(\"Fetched HTML length:\", len(html) if html else None)\n",
    "\n",
    "# Test extract_readmore_links() (using a sample HTML)\n",
    "sample_html = '''<html><body><a href=\"https://example.com/1\">Read More</a><a href=\"https://example.com/2\">read more</a></body></html>'''\n",
    "links = extract_readmore_links(sample_html)\n",
    "print(\"Extracted 'read more' links:\", links)\n",
    "\n",
    "# Test update_ledger()\n",
    "update_ledger(\"test_ledger.csv\", uid, test_path, test_url)"
   ]
  }
 ],
 "metadata": {
  "kernelspec": {
   "display_name": "venv",
   "language": "python",
   "name": "python3"
  },
  "language_info": {
   "codemirror_mode": {
    "name": "ipython",
    "version": 3
   },
   "file_extension": ".py",
   "mimetype": "text/x-python",
   "name": "python",
   "nbconvert_exporter": "python",
   "pygments_lexer": "ipython3",
   "version": "3.12.9"
  }
 },
 "nbformat": 4,
 "nbformat_minor": 5
}
